{
 "cells": [
  {
   "cell_type": "code",
   "execution_count": 1,
   "metadata": {},
   "outputs": [],
   "source": [
    "import face_recognition\n",
    "import cv2\n",
    "import numpy as np"
   ]
  },
  {
   "cell_type": "code",
   "execution_count": 7,
   "metadata": {},
   "outputs": [],
   "source": [
    "_img = face_recognition.load_image_file(\"\"\" 이미지 path \"\"\")\n",
    "_encoding = face_recognition.face_encodings(_img)[0]\n",
    "\n",
    "known_face_encodings = [\n",
    "    \"\"\" encodings \"\"\"\n",
    "]\n",
    "known_face_names = [\n",
    "    \"\"\" encoding에 해당하는 name\"\"\"\n",
    "]\n",
    "\n",
    "face_locations = []\n",
    "face_encodings = []\n",
    "face_names = []\n",
    "process_this_frame = True\n",
    "\n",
    "cap = cv2.VideoCapture(0)\n",
    "while True :\n",
    "    ret, frame = cap.read()\n",
    "    q_frame = cv2.resize(frame, (0, 0), fx=0.25, fy=0.25)\n",
    "    rgb_q_frame = q_frame[:, :, ::-1]\n",
    "    \n",
    "    if process_this_frame :\n",
    "        face_locations = face_recognition.face_locations(rgb_q_frame)\n",
    "        face_encodings = face_recognition.face_encodings(rgb_q_frame, face_locations)\n",
    "        \n",
    "        face_names=[]\n",
    "        for face_encoding in face_encodings :\n",
    "            matches = face_recognition.compare_faces(known_face_encodings, face_encoding)\n",
    "            name = \"\"\" default name \"\"\"\n",
    "            \n",
    "            face_distances = face_recognition.face_distance(known_face_encodings, face_encoding)\n",
    "            best_match_index = np.argmin(face_distances)\n",
    "            if matches[best_match_index] :\n",
    "                name = known_face_names[best_match_index]\n",
    "            face_names.append(name)\n",
    "    process_this_frame = not process_this_frame\n",
    "    \n",
    "    for (top, right, bottom, left), name in zip(face_locations, face_names) :\n",
    "        top *= 4\n",
    "        right *= 4\n",
    "        bottom *= 4\n",
    "        left *= 4\n",
    "        \n",
    "        cv2.rectangle(frame, (left, top), (right, bottom), (0, 0, 255), 2)\n",
    "        cv2.rectangle(frame, (left, bottom - 35), (right, bottom), (0, 0, 255), cv2.FILLED)\n",
    "        font = cv2.FONT_HERSHEY_DUPLEX\n",
    "        cv2.putText(frame, name, (left+6, bottom-6), font, 1.0, (255, 255, 255), 1)\n",
    "    \n",
    "    cv2.imshow(\"\"\" window title \"\"\", frame)\n",
    "    \n",
    "    if cv2.waitKey(1) & 0xFF == ord('q'):\n",
    "        break\n",
    "    \n",
    "cap.release()\n",
    "cv2.destroyAllWindows()"
   ]
  }
 ],
 "metadata": {
  "kernelspec": {
   "display_name": "Python 3",
   "language": "python",
   "name": "python3"
  },
  "language_info": {
   "codemirror_mode": {
    "name": "ipython",
    "version": 3
   },
   "file_extension": ".py",
   "mimetype": "text/x-python",
   "name": "python",
   "nbconvert_exporter": "python",
   "pygments_lexer": "ipython3",
   "version": "3.6.4"
  }
 },
 "nbformat": 4,
 "nbformat_minor": 4
}
