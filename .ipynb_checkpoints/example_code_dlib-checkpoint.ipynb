{
 "cells": [
  {
   "cell_type": "code",
   "execution_count": 2,
   "metadata": {},
   "outputs": [],
   "source": [
    "import os\n",
    "import cv2\n",
    "import numpy as np\n",
    "import dlib\n",
    "\n",
    "blue_color = (255, 0, 0)\n",
    "detector = dlib.get_frontal_face_detector()\n",
    "predictor = dlib.shape_predictor(\"shape_predictor_68_face_landmarks.dat\")"
   ]
  },
  {
   "cell_type": "code",
   "execution_count": 7,
   "metadata": {},
   "outputs": [],
   "source": [
    "ALL = list(range(0, 68))\n",
    "RIGHT_EYEBROW = list(range(17, 22))\n",
    "LEFT_EYEBROW = list(range(22, 27))\n",
    "NOSE = list(range(27, 36))\n",
    "RIGHT_EYE = list(range(36, 42))\n",
    "LEFT_EYE = list(range(42, 48))\n",
    "MOUTH_OUTLINE = list(range(61,68))\n",
    "JAWLINE = list(range(0, 17))\n",
    "index = ALL"
   ]
  },
  {
   "cell_type": "markdown",
   "metadata": {},
   "source": [
    "## face detection _ image"
   ]
  },
  {
   "cell_type": "code",
   "execution_count": 5,
   "metadata": {},
   "outputs": [],
   "source": [
    "def detect_face(img) :\n",
    "    gray = cv2.cvtColor(img, cv2.COLOR_BGR2GRAY)\n",
    "    faces = detector(gray, 1)\n",
    "    return faces\n",
    "\n",
    "def draw_face_rec(img, faces) :\n",
    "    for face in faces :\n",
    "        cv2.rectangle(img, (face.left(), face.top()), (face.right(), face.bottom()), blue_color, 2)\n",
    "    return img\n",
    "\n",
    "def show_image(title, img) :\n",
    "    cv2.imshow(title, img)\n",
    "    cv2.waitKey()\n",
    "    cv2.destroyAllWindows()"
   ]
  },
  {
   "cell_type": "code",
   "execution_count": 13,
   "metadata": {},
   "outputs": [],
   "source": [
    "img_file = \"\"\" 이미지 path \"\"\"\n",
    "img = cv2.imread(img_file)\n",
    "faces = detect_face(img)\n",
    "result_face = draw_face_rec(img, faces)\n",
    "show_image(\"\"\"window title\"\"\", result_face)"
   ]
  },
  {
   "cell_type": "code",
   "execution_count": 8,
   "metadata": {},
   "outputs": [],
   "source": [
    "def detect_landmark(img) :\n",
    "    gray = cv2.cvtColor(img, cv2.COLOR_BGR2GRAY)\n",
    "    faces = detector(gray, 1)\n",
    "    \n",
    "    for face in faces :\n",
    "        landmarks = predictor(gray, face)\n",
    "        landmark_list = np.array([[p.x, p.y] for p in landmarks.parts()])\n",
    "    return landmark_list\n",
    "\n",
    "def draw_landmark(img, landmark_list) :\n",
    "    for pt in landmark_list[index] :\n",
    "        pt_pos = (pt[0], pt[1])\n",
    "        cv2.circle(img, pt_pos, 2, blue_color, -1)\n",
    "    return img"
   ]
  },
  {
   "cell_type": "code",
   "execution_count": 14,
   "metadata": {},
   "outputs": [],
   "source": [
    "img_file = \"\"\" 이미지 path \"\"\"\n",
    "img = cv2.imread(img_file)\n",
    "landmarks = detect_landmark(img)\n",
    "result_landmark = draw_landmark(img, landmarks)\n",
    "show_image(\"\"\"window title\"\"\", result_landmark)"
   ]
  },
  {
   "cell_type": "markdown",
   "metadata": {},
   "source": [
    "## landmark _ webcam"
   ]
  },
  {
   "cell_type": "code",
   "execution_count": 19,
   "metadata": {},
   "outputs": [],
   "source": [
    "def webcam_init() :\n",
    "    cap = cv2.VideoCapture(0)\n",
    "    cap.set(3, 720)\n",
    "    cap.set(4, 1080)\n",
    "    return cap\n",
    "\n",
    "def detect_landmark(img, faces) :\n",
    "    gray = cv2.cvtColor(img, cv2.COLOR_BGR2GRAY)\n",
    "    \n",
    "    for face in faces :\n",
    "        landmarks = predictor(gray, face)\n",
    "        landmark_list = np.array([[p.x, p.y] for p in landmarks.parts()])\n",
    "    return landmark_list\n",
    "\n",
    "def detect_mouth(landmark) :\n",
    "    upper_loc = landmark[62]\n",
    "    lower_loc = landmark[66]\n",
    "    mouth_loc = [upper_loc, lower_loc]\n",
    "    \n",
    "    if upper_loc[1] >= lower_loc[1] :\n",
    "        return False, mouth_loc\n",
    "    else : return True, mouth_loc\n",
    "    \n",
    "# overlay function\n",
    "def overlay_transparent(background_img, img_to_overlay_t, x, y, overlay_size=None):\n",
    "    bg_img = background_img.copy()\n",
    "    # convert 3 channels to 4 channels\n",
    "    if bg_img.shape[2] == 3:\n",
    "        bg_img = cv2.cvtColor(bg_img, cv2.COLOR_BGR2BGRA)\n",
    "\n",
    "    b, g, r, a = cv2.split(img_to_overlay_t)\n",
    "\n",
    "    mask = cv2.medianBlur(a, 5)\n",
    "\n",
    "    h, w, _ = img_to_overlay_t.shape\n",
    "    roi = bg_img[int(y-h/2):int(y+h/2), int(x-w/2):int(x+w/2)]\n",
    "\n",
    "    img1_bg = cv2.bitwise_and(roi.copy(), roi.copy(), mask=cv2.bitwise_not(mask))\n",
    "    img2_fg = cv2.bitwise_and(img_to_overlay_t, img_to_overlay_t, mask=mask)\n",
    "\n",
    "    bg_img[int(y-h/2):int(y+h/2), int(x-w/2):int(x+w/2)] = cv2.add(img1_bg, img2_fg)\n",
    "\n",
    "    # convert 4 channels to 4 channels\n",
    "    bg_img = cv2.cvtColor(bg_img, cv2.COLOR_BGRA2BGR)\n",
    "\n",
    "    return bg_img\n",
    "\n",
    "\n",
    "def spit_star(frame, star, mouth_loc) :\n",
    "    mid_loc = [int((mouth_loc[0][0] + mouth_loc[1][0])/2), int((mouth_loc[0][1] + mouth_loc[1][1])/2)]\n",
    "    size = abs(mouth_loc[1][1] - mouth_loc[0][1]) * 4\n",
    "    star = cv2.resize(star, dsize=(size, size), interpolation=cv2.INTER_AREA)\n",
    "    result_img = overlay_transparent(frame, star, mid_loc[0], mid_loc[1], size)\n",
    "    return result_img"
   ]
  },
  {
   "cell_type": "code",
   "execution_count": 20,
   "metadata": {},
   "outputs": [],
   "source": [
    "cap = webcam_init()\n",
    "overlay = cv2.imread(\"\"\" overlay 이미지 path \"\"\", cv2.IMREAD_UNCHANGED)\n",
    "\n",
    "if overlay.shape[2] == 3 :\n",
    "    overlay = cv2.cvtColor(overlay, cv2.COLOR_BGR2BGRA)\n",
    "    \n",
    "while True :\n",
    "    ret, frame = cap.read()\n",
    "    frame = cv2.flip(frame, 1)\n",
    "    \n",
    "    faces = detect_face(frame)\n",
    "    \n",
    "    if len(faces)!=0 :\n",
    "        landmark = detect_landmark(frame, faces)\n",
    "        is_mouth_open, mouth_loc = detect_mouth(landmark)\n",
    "    \n",
    "        if is_mouth_open :\n",
    "            frame = spit_star(frame, overlay, mouth_loc)\n",
    "        \n",
    "    cv2.imshow(\"\"\" window title \"\"\", frame)\n",
    "    key = cv2.waitKey(1)\n",
    "    if key & 0xFF == 27 :\n",
    "        break\n",
    "    \n",
    "cap.release()\n",
    "cv2.destroyAllWindows()   "
   ]
  }
 ],
 "metadata": {
  "kernelspec": {
   "display_name": "Python 3",
   "language": "python",
   "name": "python3"
  },
  "language_info": {
   "codemirror_mode": {
    "name": "ipython",
    "version": 3
   },
   "file_extension": ".py",
   "mimetype": "text/x-python",
   "name": "python",
   "nbconvert_exporter": "python",
   "pygments_lexer": "ipython3",
   "version": "3.6.4"
  }
 },
 "nbformat": 4,
 "nbformat_minor": 4
}
