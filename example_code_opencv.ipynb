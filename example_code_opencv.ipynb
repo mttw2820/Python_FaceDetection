{
 "cells": [
  {
   "cell_type": "code",
   "execution_count": 15,
   "metadata": {},
   "outputs": [],
   "source": [
    "import os\n",
    "import cv2\n",
    "\n",
    "face_cascade = cv2.CascadeClassifier(\"\"\" haar cascade 모델 위치 \"\"\")\n",
    "blue_color = (255, 0, 0)"
   ]
  },
  {
   "cell_type": "markdown",
   "metadata": {},
   "source": [
    "## face box "
   ]
  },
  {
   "cell_type": "code",
   "execution_count": 16,
   "metadata": {},
   "outputs": [],
   "source": [
    "def detect_face(img) :\n",
    "    gray = cv2.cvtColor(img, cv2.COLOR_BGR2GRAY)\n",
    "    faces = face_cascade.detectMultiScale(gray, 1.3, 5)\n",
    "    return faces\n",
    "\n",
    "def draw_face_rec(img, faces) :\n",
    "    if len(faces) == 0:\n",
    "        print(\"No Face Detected\")\n",
    "    else :\n",
    "        for (x, y, w, h) in faces :\n",
    "            cv2.rectangle(img, (x, y), (x+w, y+h), blue_color, 2)\n",
    "    \n",
    "    return img\n",
    "\n",
    "def show_image(title, img) :\n",
    "    cv2.imshow(title, img)\n",
    "    cv2.waitKey()\n",
    "    cv2.destroyAllWindows()"
   ]
  },
  {
   "cell_type": "code",
   "execution_count": 4,
   "metadata": {},
   "outputs": [],
   "source": [
    "img_file = \"\"\" 이미지 path \"\"\"\n",
    "img = cv2.imread(img_file)\n",
    "\n",
    "faces = detect_face(img)\n",
    "result = draw_face_rec(img, faces)\n",
    "show_image(\"\"\" window title \"\"\", result)"
   ]
  },
  {
   "cell_type": "markdown",
   "metadata": {},
   "source": [
    "## face noonsong"
   ]
  },
  {
   "cell_type": "code",
   "execution_count": 17,
   "metadata": {},
   "outputs": [],
   "source": [
    "def make_border(img) :\n",
    "    h, w, c = img.shape\n",
    "    border = int(max(h, w) / 2)\n",
    "    img = cv2.copyMakeBorder(img, border, border, border, border, cv2.BORDER_CONSTANT)\n",
    "    return img, border\n",
    "\n",
    "def delete_border(img, border) :\n",
    "    h, w, c = img.shape\n",
    "    cropped_img = img[border:h-border, border:w-border]\n",
    "    return cropped_img\n",
    "\n",
    "def make_loc(face, noonsong) :\n",
    "    x, y, w, h = face\n",
    "    origin_h, origin_w, origin_c = noonsong.shape\n",
    "    ns_w = int(w*2.0)\n",
    "    ns_h = int(origin_h * ns_w / origin_w)\n",
    "    noonsong = cv2.resize(noonsong, dsize=(ns_w, ns_h), interpolation = cv2.INTER_AREA)\n",
    "    \n",
    "    loc_x = x - int(ns_w * 0.2)\n",
    "    loc_y = y + h - ns_h\n",
    "    if loc_y < 0 : loc_y = 0\n",
    "        \n",
    "    return loc_x, loc_y, ns_w, ns_h, noonsong\n",
    "    \n",
    "    \n",
    "def draw_noonsong(img, faces) :\n",
    "    noonsong = cv2.imread(\"\"\" overlay 이미지 path\"\"\")\n",
    "    \n",
    "    for face in faces :\n",
    "        x, y, w, h, noonsong = make_loc(face, noonsong)\n",
    "        \n",
    "        noonsong_gray = cv2.cvtColor(noonsong, cv2.COLOR_BGR2GRAY)\n",
    "        ret, mask = cv2.threshold(noonsong_gray, 10, 255, cv2.THRESH_BINARY)\n",
    "        mask_inv = cv2.bitwise_not(mask)\n",
    "        \n",
    "        roi = img[y:y+h, x:x+w]\n",
    "        img_bg = cv2.bitwise_and(roi, roi, mask=mask_inv)\n",
    "        noonsong_bg = cv2.bitwise_and(noonsong, noonsong, mask=mask)\n",
    "        \n",
    "        dst = cv2.add(img_bg, noonsong_bg)\n",
    "        img[y:y+h, x:x+w] = dst\n",
    "    \n",
    "    return img"
   ]
  },
  {
   "cell_type": "code",
   "execution_count": 10,
   "metadata": {},
   "outputs": [],
   "source": [
    "img_file = \"\"\" 이미지 path \"\"\"\n",
    "img = cv2.imread(img_file)\n",
    "\n",
    "img, border = make_border(img)\n",
    "faces = detect_face(img)\n",
    "result = draw_noonsong(img, faces)\n",
    "result = delete_border(result, border)\n",
    "show_image(\"\"\" window title \"\"\", result)"
   ]
  },
  {
   "cell_type": "markdown",
   "metadata": {},
   "source": [
    "## face box _ web cam"
   ]
  },
  {
   "cell_type": "code",
   "execution_count": 23,
   "metadata": {},
   "outputs": [],
   "source": [
    "def webcam_init() :\n",
    "    cap = cv2.VideoCapture(0)\n",
    "    cap.set(3, 720)\n",
    "    cap.set(4, 1080)\n",
    "    return cap\n",
    "\n",
    "def draw_face_rec(img, faces) :\n",
    "    for (x, y, w, h) in faces :\n",
    "        cv2.rectangle(img, (x, y), (x+w, y+h), blue_color, 2)\n",
    "    \n",
    "    return img"
   ]
  },
  {
   "cell_type": "code",
   "execution_count": 20,
   "metadata": {},
   "outputs": [],
   "source": [
    "cap = webcam_init()\n",
    "\n",
    "while True :\n",
    "    ret, frame = cap.read()\n",
    "    frame = cv2.flip(frame, 1)\n",
    "    \n",
    "    faces = detect_face(frame)\n",
    "    frame = draw_face_rec(frame, faces)\n",
    "\n",
    "    cv2.imshow(\"\"\"window title\"\"\", frame)\n",
    "    key = cv2.waitKey(1)\n",
    "    if key & 0xFF == 27 :\n",
    "        break\n",
    "        \n",
    "cap.release()\n",
    "cv2.destroyAllWindows()"
   ]
  },
  {
   "cell_type": "markdown",
   "metadata": {},
   "source": [
    "## face noonsong _ web cam"
   ]
  },
  {
   "cell_type": "code",
   "execution_count": 25,
   "metadata": {},
   "outputs": [],
   "source": [
    "def draw_noonsong(img, noonsong, faces) :\n",
    "    \n",
    "    for face in faces :\n",
    "        x, y, w, h, noonsong = make_loc(face, noonsong)\n",
    "        \n",
    "        noonsong_gray = cv2.cvtColor(noonsong, cv2.COLOR_BGR2GRAY)\n",
    "        ret, mask = cv2.threshold(noonsong_gray, 10, 255, cv2.THRESH_BINARY)\n",
    "        mask_inv = cv2.bitwise_not(mask)\n",
    "        \n",
    "        roi = img[y:y+h, x:x+w]\n",
    "        img_bg = cv2.bitwise_and(roi, roi, mask=mask_inv)\n",
    "        noonsong_bg = cv2.bitwise_and(noonsong, noonsong, mask=mask)\n",
    "        \n",
    "        dst = cv2.add(img_bg, noonsong_bg)\n",
    "        img[y:y+h, x:x+w] = dst\n",
    "    \n",
    "    return img"
   ]
  },
  {
   "cell_type": "code",
   "execution_count": 26,
   "metadata": {},
   "outputs": [],
   "source": [
    "cap = webcam_init()\n",
    "noonsong = cv2.imread(\"\"\" overlay 이미지 path\"\"\")\n",
    "\n",
    "while True :\n",
    "    ret, frame = cap.read()\n",
    "    frame = cv2.flip(frame, 1)\n",
    "    \n",
    "    frame, border = make_border(frame)\n",
    "    faces = detect_face(frame)\n",
    "    if len(faces) != 0 :\n",
    "        frame = draw_noonsong(frame, noonsong, faces)\n",
    "    frame = delete_border(frame, border)\n",
    "    \n",
    "    cv2.imshow(\"\"\" window title \"\"\", frame)\n",
    "    \n",
    "    key = cv2.waitKey(1)\n",
    "    if key & 0xFF == 27 :\n",
    "        break\n",
    "        \n",
    "cap.release()\n",
    "cv2.destroyAllWindows()"
   ]
  }
 ],
 "metadata": {
  "kernelspec": {
   "display_name": "Python 3",
   "language": "python",
   "name": "python3"
  },
  "language_info": {
   "codemirror_mode": {
    "name": "ipython",
    "version": 3
   },
   "file_extension": ".py",
   "mimetype": "text/x-python",
   "name": "python",
   "nbconvert_exporter": "python",
   "pygments_lexer": "ipython3",
   "version": "3.6.4"
  }
 },
 "nbformat": 4,
 "nbformat_minor": 4
}
